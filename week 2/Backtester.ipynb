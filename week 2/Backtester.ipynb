{
 "cells": [
  {
   "cell_type": "markdown",
   "id": "2a37a715",
   "metadata": {},
   "source": [
    "# What to do now :\n",
    "\n",
    "Make a Portfolio using the strategy given. Test the strategy on a historical dataset. Evaluate the performance of the strategy using metrics such as Sharpe Ratio, etc. Make graphical representation.\n",
    "\n",
    "Note: We are using data for a day.\n"
   ]
  },
  {
   "cell_type": "code",
   "execution_count": null,
   "id": "672a4534",
   "metadata": {},
   "outputs": [],
   "source": [
    "import pandas as pd\n",
    "import numpy as np"
   ]
  },
  {
   "cell_type": "code",
   "execution_count": null,
   "id": "f4a23bd0",
   "metadata": {},
   "outputs": [],
   "source": [
    "# No Need to download data again\n",
    "t=pd.read_csv(\"Tickers.csv\")\n",
    "t=t.iloc[:,1:2]\n",
    "t.reset_index(drop=True, inplace=True)\n",
    "t=t.values\n",
    "# print(t)\n",
    "t=pd.read_csv(\"Tickers.csv\")\n",
    "t=t.iloc[:,1:2]\n",
    "t.reset_index(drop=True, inplace=True)\n",
    "t=t.values\n",
    "tickers=[]\n",
    "for stock_group in t:\n",
    "    for stock_name in stock_group:\n",
    "        tickers.append(stock_name)\n",
    "    \n",
    "tickers\n"
   ]
  },
  {
   "cell_type": "markdown",
   "id": "f1382aa7",
   "metadata": {},
   "source": [
    "## STRATEGIES ------------------------------------------------------------------------ START"
   ]
  },
  {
   "cell_type": "code",
   "execution_count": null,
   "id": "0c06a60c",
   "metadata": {},
   "outputs": [],
   "source": [
    "from scipy import stats\n",
    "                                \n",
    "def strat_per(stock, max_weight=0.08, momentum_days=20, reversal_days=5):\n",
    "    \"\"\"\n",
    "    Simpler strategy combining short-term reversal with medium-term momentum\n",
    "    \"\"\"\n",
    "    dfs = []\n",
    "    n = None\n",
    "\n",
    "    for ticker in stock:\n",
    "        df = pd.read_csv(f\"{ticker}.csv\")\n",
    "        df.reset_index(drop=True, inplace=True)\n",
    "        df['Close'] = pd.to_numeric(df['Close'])\n",
    "        dfs.append(df)\n",
    "        if n is None:\n",
    "            n = len(df)\n",
    "\n",
    "    portfolio = np.zeros((len(stock), n))\n",
    "\n",
    "    for i, df in enumerate(dfs):\n",
    "        returns = df['Close'].pct_change()\n",
    "        \n",
    "        # Medium-term momentum\n",
    "        momentum = returns.rolling(window=momentum_days).mean()\n",
    "        \n",
    "        # Short-term reversal\n",
    "        short_term_return = returns.rolling(window=reversal_days).mean()\n",
    "        reversal = -short_term_return  # Opposite of recent performance\n",
    "        \n",
    "        # Combine: follow medium-term trend but fade short-term moves\n",
    "        signal = 0.7 * momentum + 0.3 * reversal # Try changing parameters. Might get some better results \n",
    "        \n",
    "        # Volatility adjustment\n",
    "        vol = returns.rolling(window=20).std()\n",
    "        vol_adjusted_signal = signal / (vol + 1e-8) # Avoid division by zero. Important.\n",
    "        \n",
    "        portfolio[i, :] = vol_adjusted_signal.shift(1).fillna(0).to_numpy()\n",
    "\n",
    "    abs_sum = np.sum(np.abs(portfolio), axis=0, keepdims=True)\n",
    "    abs_sum[abs_sum == 0] = 1.0 # Prevents division by 0\n",
    "    normalized_portfolio = portfolio / abs_sum # Normalising the portfolio to have a sum of 1\n",
    "    clipped_portfolio = np.clip(normalized_portfolio, -max_weight, max_weight) # Clip to prevent over-weighting\n",
    "    market_neutral_portfolio = clipped_portfolio - clipped_portfolio.mean(axis=0, keepdims=True) # Subtract the mean to make it market neutral\n",
    "    \n",
    "    return market_neutral_portfolio\n"
   ]
  },
  {
   "cell_type": "markdown",
   "id": "095a7c1f",
   "metadata": {},
   "source": [
    "## Assignment \n",
    "Try creating your own strategies. Just remember, input can be anything ,but , output should be a portfolio with rows as stocks and columns as dates. See example output if you don't understand.\n",
    "Don't worry if this doesn't correspond to the other backtester. This is because the normalization you might be doing here is different than than how the other does that.\n",
    "\n",
    "P.S. Before you backtest , make sure to complete the backtester : backtest_portfolio () function. "
   ]
  },
  {
   "cell_type": "code",
   "execution_count": null,
   "id": "01ec46cf",
   "metadata": {},
   "outputs": [],
   "source": [
    "def your_strat_1(stonks):\n",
    "    return -1"
   ]
  },
  {
   "cell_type": "code",
   "execution_count": null,
   "id": "d9843362",
   "metadata": {},
   "outputs": [],
   "source": [
    "def your_strat_2(stocks):\n",
    "    return -1"
   ]
  },
  {
   "cell_type": "code",
   "execution_count": null,
   "id": "8ea06970",
   "metadata": {},
   "outputs": [],
   "source": [
    "def your_strat_3(stocks):\n",
    "    return -1"
   ]
  },
  {
   "cell_type": "markdown",
   "id": "66e469e3",
   "metadata": {},
   "source": [
    "## STRATEGIES ------------------------------------------------------ END"
   ]
  },
  {
   "cell_type": "code",
   "execution_count": null,
   "id": "b9f4944a",
   "metadata": {},
   "outputs": [
    {
     "name": "stdout",
     "output_type": "stream",
     "text": [
      "Testing the strat......\n",
      "\n"
     ]
    },
    {
     "name": "stderr",
     "output_type": "stream",
     "text": [
      "C:\\Users\\91753\\AppData\\Local\\Temp\\ipykernel_18836\\3180040760.py:122: FutureWarning: The default fill_method='pad' in Series.pct_change is deprecated and will be removed in a future version. Either fill in any non-leading NA values prior to calling pct_change or specify 'fill_method=None' to not fill NA values.\n",
      "  returns = df['Close'].pct_change()\n"
     ]
    },
    {
     "name": "stdout",
     "output_type": "stream",
     "text": [
      "[[ 0.00000000e+00  0.00000000e+00  0.00000000e+00 ...  1.32455148e-03\n",
      "   1.74173052e-03  1.99867923e-03]\n",
      " [ 0.00000000e+00  0.00000000e+00  0.00000000e+00 ...  5.58808915e-04\n",
      "   3.79531055e-04  8.63112333e-04]\n",
      " [ 0.00000000e+00  0.00000000e+00  0.00000000e+00 ...  3.08889048e-03\n",
      "   2.93352418e-03  3.75828727e-03]\n",
      " ...\n",
      " [ 0.00000000e+00  0.00000000e+00  0.00000000e+00 ... -5.26268926e-05\n",
      "   9.99455756e-04  1.90593620e-03]\n",
      " [ 0.00000000e+00  0.00000000e+00  0.00000000e+00 ...  4.23801635e-04\n",
      "   9.59684044e-05  1.25555091e-04]\n",
      " [ 0.00000000e+00  0.00000000e+00  0.00000000e+00 ...  1.86073359e-03\n",
      "   1.89996648e-03  2.94608644e-03]]\n",
      "-6.994405055138486e-15\n"
     ]
    }
   ],
   "source": [
    "print(\"Testing the strat......\\n\")\n",
    "portfolio = strat_ema_returns(tickers)\n",
    "# print(portfolio.shape)\n",
    "print(portfolio)  # Show first 10 elements\n",
    "print(np.sum(portfolio))   # Sum of allocations : should be ideally 0 after Market Neutralisation"
   ]
  },
  {
   "cell_type": "code",
   "execution_count": null,
   "id": "51f470b6",
   "metadata": {},
   "outputs": [
    {
     "name": "stdout",
     "output_type": "stream",
     "text": [
      "(503, 1006)\n"
     ]
    }
   ],
   "source": [
    "print(portfolio.shape)"
   ]
  },
  {
   "cell_type": "markdown",
   "id": "f6ef4bf4",
   "metadata": {},
   "source": [
    "# Studying the metrics\n",
    "\n",
    "The strategy was written in such a way that we didn't need to make a portfolio. \n",
    "\n",
    "All we had to do is just call the strat and the portfolio would take care of itself.\n",
    "\n",
    "We have the portfolio, which is what the person's standing for the day is.\n",
    "\n",
    "How much percentage of his portfolio is each stock in? So, basically we know the no. of stocks he owns for the day, given the portfolio.\n",
    "\n",
    "So what do we need to do now ?\n",
    "\n",
    "- As a day passes , we need to update the portfolio. ( We can also assume the portfolio to be constant for simplicity but we won't )\n",
    "\n",
    "            PORTFOLIO_VAL_NEW  = PORTFOLIO_VAL_OLD + PnL\n",
    "        \n",
    " We can also clip it for saftey.\n",
    "\n",
    "\n",
    "- Calculate metrics as needed :\n",
    "    \n",
    "    - Total PnL\n",
    "\n",
    "                    PnL = Summ ( ( Close_new- Close_old ) * Quantity ) for all stocks in the portfolio\n",
    "    \n",
    "    - Cumilitive Returns\n",
    "\n",
    "                  Cumulative Return=( ∏ ( 1 + r_t ) ) − 1  : r_t daily return\n",
    "\n",
    "    - Sharpe Ratio \n",
    "\n",
    "                    Sharpe Ratio = ( PnL - Risk_free ) / Volatility\n",
    "\n",
    "        aka\n",
    "\n",
    "                    Sharpe Ration = (Mean(Ret_daily) / Std(Ret_daily)) * sqrt(252)\n",
    "\n",
    "    - Maximum Drawdown\n",
    "\n",
    "                    Max Drawdown = max { ( V_peak - V_trough ) / V_peak } \n",
    "                    V :  portfolio value at time t = Sum ( weight of stock * Price )\n",
    "\n",
    "\n",
    "    - Turnover\n",
    "\n",
    "                    Turnover_at_t = Sum (( | weight_new - weight_old | )) : for all stocks in the portfolio\n",
    "\n",
    "                    Turnover = Sum ( Turnover_at_t ) / days : for all days in the portfolio\n",
    "\n",
    "\n",
    "    - Correlation : A metric introduced by me. It is the correlation between the stock and the portfolio. We'll measure it in time shift. \n",
    "\n",
    "                    Corr(  delta(close*volume,1) , PnL created by Portfolio  )  \n",
    "\n",
    "\n",
    "- Plotting the metrics : ) \n",
    "\n",
    "Note : we have used a lot of assumptions while calculating the metrics and creating this backtester. For example : we have assumed that he player's influence in the market is negligible. "
   ]
  },
  {
   "cell_type": "code",
   "execution_count": null,
   "id": "380a8921",
   "metadata": {},
   "outputs": [],
   "source": [
    "import pandas as pd\n",
    "import numpy as np\n",
    "import plotly.graph_objs as go\n",
    "from plotly.subplots import make_subplots\n",
    "import plotly.offline as py\n",
    "\n",
    "def backtest_portfolio(portfolio, tickers, risk_free_rate=0.0451):\n",
    "    n_stocks, n_days = portfolio.shape\n",
    "    price_matrix = np.zeros((n_stocks, n_days))\n",
    "\n",
    "    # Load price data\n",
    "    for i, ticker in enumerate(tickers):\n",
    "        df = pd.read_csv(f\"{ticker}.csv\")\n",
    "        df = df.reset_index(drop=True)\n",
    "        df['Close'] = pd.to_numeric(df['Close'])\n",
    "        price_matrix[i, :] = df['Close'].to_numpy()\n",
    "\n",
    "    # # Stock daily returns\n",
    "    stock_returns = pd.DataFrame(price_matrix).pct_change(axis=1).fillna(0).values\n",
    "\n",
    "    # print(stock_returns)\n",
    "\n",
    "    # Portfolio returns\n",
    "    daily_returns = np.nansum(portfolio * stock_returns, axis=0)\n",
    "\n",
    "    # Cumulative Returns\n",
    "    cumulative_returns =  .................... Complete this and run\n",
    "\n",
    "    # Sharpe Ratio\n",
    "    excess_returns = daily_returns#- risk_free_rate / 252\n",
    "    sharpe_ratio = ..................... Complete this and run\n",
    "\n",
    "    # Max Drawdown\n",
    "    cumulative_curve = np.cumprod(1 + daily_returns)\n",
    "    rolling_max = np.maximum.accumulate(cumulative_curve)\n",
    "    drawdown = 1 - cumulative_curve / rolling_max\n",
    "    max_drawdown = np.max(drawdown)\n",
    "\n",
    "    # Turnover\n",
    "    turnover = ...................... Complete this and run\n",
    "    \n",
    "    # Mean Correlation with individual stocks\n",
    "    correlations = []\n",
    "    for i in range(n_stocks):\n",
    "        x = daily_returns\n",
    "        y = stock_returns[i, :]\n",
    "        mask = ~np.isnan(x) & ~np.isnan(y)\n",
    "        if np.sum(mask) > 1:\n",
    "            corr = np.corrcoef(x[mask], y[mask])[0, 1]\n",
    "            correlations.append(corr)\n",
    "        else:\n",
    "            correlations.append(np.nan)\n",
    "    mean_correlation = np.nanmean(correlations)\n",
    "\n",
    "    results = {\n",
    "        \"Sharpe Ratio\": sharpe_ratio,\n",
    "        \"Max Drawdown\": max_drawdown,\n",
    "        \"Turnover\": turnover,\n",
    "        \"Total Return\": cumulative_returns[-1] * 100,\n",
    "        \"Mean Correlation (Portfolio vs Stocks)\": mean_correlation,\n",
    "        \"Daily Returns\": daily_returns,\n",
    "        \"Cumulative Returns\": cumulative_returns\n",
    "    }\n",
    "\n",
    "    # PLotting \n",
    "    days = np.arange(n_days)\n",
    "\n",
    "    # Create subplots layout: 3 rows for returns, drawdown, top stocks\n",
    "    fig = make_subplots(\n",
    "        rows=4, cols=1,\n",
    "        subplot_titles=(\"Cumulative Returns\", \"Daily Returns\", \"Drawdown Curve\", \"Portfolio vs Top 5 Stocks\"),\n",
    "        vertical_spacing=0.1,\n",
    "        shared_xaxes=True\n",
    "    )\n",
    "\n",
    "    # Cumulative Returns\n",
    "    fig.add_trace(go.Scatter(x=days, y=cumulative_returns, name=\"Cumulative Return\"), row=1, col=1)\n",
    "\n",
    "    # Daily Returns\n",
    "    fig.add_trace(go.Scatter(x=days, y=daily_returns, name=\"Daily Return\"), row=2, col=1)\n",
    "\n",
    "    # Drawdown\n",
    "    fig.add_trace(go.Scatter(x=days, y=drawdown, name=\"Drawdown\"), row=3, col=1)\n",
    "\n",
    "    # Portfolio vs Top 5 correlated stocks\n",
    "    fig.add_trace(go.Scatter(x=days, y=daily_returns, name=\"Portfolio\"), row=4, col=1)\n",
    "    top_5_idx = np.argsort(correlations)[-5:]\n",
    "\n",
    "    # for i in top_5_idx:\n",
    "    #     print(stock_returns[i])\n",
    "    # print(top_5_idx)\n",
    "\n",
    "    for i in top_5_idx:\n",
    "        fig.add_trace(go.Scatter(x=days, y=stock_returns[i], name=f\"{tickers[i]}\"), row=4, col=1)\n",
    "\n",
    "    # Layout\n",
    "    fig.update_layout(\n",
    "        height=1200,\n",
    "        title_text=\"Portfolio Performance Summary\",\n",
    "        showlegend=True\n",
    "    )\n",
    "\n",
    "    # Save and open in browser\n",
    "    py.plot(fig, filename=\"portfolio_summary.html\")\n",
    "\n",
    "    return results, correlations\n"
   ]
  },
  {
   "cell_type": "code",
   "execution_count": null,
   "id": "644631c3",
   "metadata": {},
   "outputs": [
    {
     "name": "stderr",
     "output_type": "stream",
     "text": [
      "C:\\Users\\91753\\AppData\\Local\\Temp\\ipykernel_18836\\847465321.py:21: FutureWarning:\n",
      "\n",
      "The default fill_method='pad' in DataFrame.pct_change is deprecated and will be removed in a future version. Either fill in any non-leading NA values prior to calling pct_change or specify 'fill_method=None' to not fill NA values.\n",
      "\n",
      "C:\\Users\\91753\\AppData\\Local\\Packages\\PythonSoftwareFoundation.Python.3.11_qbz5n2kfra8p0\\LocalCache\\local-packages\\Python311\\site-packages\\numpy\\lib\\function_base.py:2897: RuntimeWarning:\n",
      "\n",
      "invalid value encountered in divide\n",
      "\n",
      "C:\\Users\\91753\\AppData\\Local\\Packages\\PythonSoftwareFoundation.Python.3.11_qbz5n2kfra8p0\\LocalCache\\local-packages\\Python311\\site-packages\\numpy\\lib\\function_base.py:2898: RuntimeWarning:\n",
      "\n",
      "invalid value encountered in divide\n",
      "\n"
     ]
    },
    {
     "name": "stdout",
     "output_type": "stream",
     "text": [
      "[[ 0.00000000e+00 -1.60561498e-02  2.95654504e-03 ...  7.15954094e-05\n",
      "  -3.57620493e-04 -3.61202326e-03]\n",
      " [ 0.00000000e+00 -9.72164367e-03  7.96826317e-03 ...  5.17765083e-04\n",
      "   2.22643934e-03 -5.42422955e-03]\n",
      " [ 0.00000000e+00 -9.49212766e-03  7.89185558e-03 ...  1.68156657e-03\n",
      "  -8.39371824e-04  1.42171676e-03]\n",
      " ...\n",
      " [ 0.00000000e+00 -2.61391420e-03 -5.77913053e-03 ... -2.38840058e-03\n",
      "   4.12779524e-03  5.75432032e-04]\n",
      " [ 0.00000000e+00 -1.19241595e-02  7.65484111e-03 ...  1.05266259e-03\n",
      "  -1.59542561e-03 -7.33618844e-03]\n",
      " [ 0.00000000e+00  1.48919903e-04 -7.67726435e-03 ...  7.16111339e-03\n",
      "   1.32055958e-03  1.06505998e-03]]\n",
      "[0. 0. 0. ... 0. 0. 0.]\n",
      "[0. 0. 0. ... 0. 0. 0.]\n",
      "[0. 0. 0. ... 0. 0. 0.]\n",
      "[0. 0. 0. ... 0. 0. 0.]\n",
      "[0. 0. 0. ... 0. 0. 0.]\n",
      "[201 414  67  57 423]\n",
      "Sharpe Ratio: 0.1387\n",
      "Max Drawdown: 0.0999\n",
      "Turnover: 0.4226\n",
      "Total Return: 2.5677\n",
      "Mean Correlation (Portfolio vs Stocks): -0.0649\n",
      "No. of correlating stocks : 44\n"
     ]
    }
   ],
   "source": [
    "results,corr = backtest_portfolio(portfolio, tickers)\n",
    "\n",
    "for key, value in results.items():\n",
    "    if key not in ['Daily Returns', 'Cumulative Returns']:\n",
    "        print(f\"{key}: {value:.4f}\")\n",
    "\n",
    "# print(corr)\n",
    "\n",
    "counter =0;\n",
    "for x in corr:\n",
    "    if x>0:\n",
    "        counter+=1\n",
    "\n",
    "print(\"No. of correlating stocks : \"+ str(counter))"
   ]
  }
 ],
 "metadata": {
  "language_info": {
   "name": "python"
  }
 },
 "nbformat": 4,
 "nbformat_minor": 5
}
